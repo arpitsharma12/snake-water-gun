{
 "cells": [
  {
   "cell_type": "markdown",
   "id": "fcbe2d28",
   "metadata": {},
   "source": [
    "# Game Snake Water and Gun"
   ]
  },
  {
   "cell_type": "code",
   "execution_count": 9,
   "id": "de7d84d4",
   "metadata": {
    "scrolled": true
   },
   "outputs": [
    {
     "name": "stdout",
     "output_type": "stream",
     "text": [
      "comp Turn: Snake(s) Water(w) or Gun(g)? \n",
      "your's Turn: Snake(s) Water(w) or Gun(g)? s\n",
      "Computer chose w\n",
      "You chose s\n",
      "you win!\n"
     ]
    }
   ],
   "source": [
    "from scipy import *\n",
    "import random\n",
    "\n",
    "def gameWin(comp, you):\n",
    "    if comp == you:\n",
    "        return None\n",
    "    elif comp == 's':\n",
    "        if you == 'w':\n",
    "            return False\n",
    "        elif you == 'g':\n",
    "            return True\n",
    "    elif comp == 'w':\n",
    "        if you == 'g':\n",
    "            return False\n",
    "        elif you == 's':\n",
    "            return True\n",
    "    elif comp == 'g':\n",
    "        if you == 's':\n",
    "            return False\n",
    "        elif you == 'w':\n",
    "            return True\n",
    "print(\"comp Turn: Snake(s) Water(w) or Gun(g)? \")\n",
    "randNo = random.randint(1, 3)\n",
    "if randNo == 1:\n",
    "    comp = 's'\n",
    "elif randNo == 2:\n",
    "    comp = 'w'\n",
    "elif randNo == 3:\n",
    "    comp = 'g'\n",
    "\n",
    "you = input(\"your's Turn: Snake(s) Water(w) or Gun(g)? \")\n",
    "a = gameWin(comp, you)\n",
    "\n",
    "print(f\"Computer chose {comp}\")\n",
    "print(f\"You chose {you}\")\n",
    "\n",
    "if a == None:\n",
    "    print(\"Tie\")\n",
    "elif a:\n",
    "    print(\"you win!\")\n",
    "else:\n",
    "    print(\"you lose\")\n",
    "\n",
    "    \n",
    "    "
   ]
  },
  {
   "cell_type": "code",
   "execution_count": null,
   "id": "d4bba7e2",
   "metadata": {},
   "outputs": [],
   "source": []
  }
 ],
 "metadata": {
  "kernelspec": {
   "display_name": "Python 3",
   "language": "python",
   "name": "python3"
  },
  "language_info": {
   "codemirror_mode": {
    "name": "ipython",
    "version": 3
   },
   "file_extension": ".py",
   "mimetype": "text/x-python",
   "name": "python",
   "nbconvert_exporter": "python",
   "pygments_lexer": "ipython3",
   "version": "3.8.8"
  }
 },
 "nbformat": 4,
 "nbformat_minor": 5
}
